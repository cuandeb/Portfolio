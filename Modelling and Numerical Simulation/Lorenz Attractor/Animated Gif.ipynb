{
 "cells": [
  {
   "cell_type": "markdown",
   "metadata": {},
   "source": [
    "These few lines of code take the images saved during the plotting of the Lorenz system phase space (although this can be applied to any system) and compiles them to create a gif of the system being constructed. \n",
    "\n",
    "The final gif is saved as a .gif file whatever repository is specified. \n",
    "\n",
    "\\textbf{Note:} This code takes a long time to run. "
   ]
  },
  {
   "cell_type": "code",
   "execution_count": 1,
   "metadata": {
    "scrolled": true
   },
   "outputs": [],
   "source": [
    "import imageio\n",
    "import os\n",
    "from pathlib import Path"
   ]
  },
  {
   "cell_type": "code",
   "execution_count": 2,
   "metadata": {},
   "outputs": [],
   "source": [
    "image_path = Path('gif_images')\n",
    "images = sorted(image_path.glob('*.png'), key=os.path.getmtime) #sorts the saved images numerically \n",
    "\n",
    "image_list = [imageio.imread(file_name) for file_name in images]    \n",
    "imageio.mimwrite('lorenz_2d_animation.gif', image_list,fps=50) #creates a gif out of the saved images "
   ]
  }
 ],
 "metadata": {
  "kernelspec": {
   "display_name": "Python 3",
   "language": "python",
   "name": "python3"
  },
  "language_info": {
   "codemirror_mode": {
    "name": "ipython",
    "version": 3
   },
   "file_extension": ".py",
   "mimetype": "text/x-python",
   "name": "python",
   "nbconvert_exporter": "python",
   "pygments_lexer": "ipython3",
   "version": "3.7.6"
  }
 },
 "nbformat": 4,
 "nbformat_minor": 4
}
